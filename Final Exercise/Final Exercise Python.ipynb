{
 "cells": [
  {
   "cell_type": "code",
   "execution_count": 18,
   "id": "a1c8e761",
   "metadata": {},
   "outputs": [
    {
     "name": "stdout",
     "output_type": "stream",
     "text": [
      "  iso_code continent     location        date  total_cases  new_cases  \\\n",
      "0      AFG      Asia  Afghanistan  2020-01-03          NaN        0.0   \n",
      "1      AFG      Asia  Afghanistan  2020-01-04          NaN        0.0   \n",
      "2      AFG      Asia  Afghanistan  2020-01-05          NaN        0.0   \n",
      "3      AFG      Asia  Afghanistan  2020-01-06          NaN        0.0   \n",
      "4      AFG      Asia  Afghanistan  2020-01-07          NaN        0.0   \n",
      "\n",
      "   new_cases_smoothed  total_deaths  new_deaths  new_deaths_smoothed  ...  \\\n",
      "0                 NaN           NaN         0.0                  NaN  ...   \n",
      "1                 NaN           NaN         0.0                  NaN  ...   \n",
      "2                 NaN           NaN         0.0                  NaN  ...   \n",
      "3                 NaN           NaN         0.0                  NaN  ...   \n",
      "4                 NaN           NaN         0.0                  NaN  ...   \n",
      "\n",
      "   male_smokers  handwashing_facilities  hospital_beds_per_thousand  \\\n",
      "0           NaN                  37.746                         0.5   \n",
      "1           NaN                  37.746                         0.5   \n",
      "2           NaN                  37.746                         0.5   \n",
      "3           NaN                  37.746                         0.5   \n",
      "4           NaN                  37.746                         0.5   \n",
      "\n",
      "   life_expectancy  human_development_index  population  \\\n",
      "0            64.83                    0.511  41128772.0   \n",
      "1            64.83                    0.511  41128772.0   \n",
      "2            64.83                    0.511  41128772.0   \n",
      "3            64.83                    0.511  41128772.0   \n",
      "4            64.83                    0.511  41128772.0   \n",
      "\n",
      "   excess_mortality_cumulative_absolute  excess_mortality_cumulative  \\\n",
      "0                                   NaN                          NaN   \n",
      "1                                   NaN                          NaN   \n",
      "2                                   NaN                          NaN   \n",
      "3                                   NaN                          NaN   \n",
      "4                                   NaN                          NaN   \n",
      "\n",
      "   excess_mortality  excess_mortality_cumulative_per_million  \n",
      "0               NaN                                      NaN  \n",
      "1               NaN                                      NaN  \n",
      "2               NaN                                      NaN  \n",
      "3               NaN                                      NaN  \n",
      "4               NaN                                      NaN  \n",
      "\n",
      "[5 rows x 67 columns]\n"
     ]
    }
   ],
   "source": [
    "import csv\n",
    "import pandas as pd\n",
    "covid = pd.read_csv('covid-data.csv')\n",
    "print(covid.head(5))"
   ]
  },
  {
   "cell_type": "code",
   "execution_count": 22,
   "id": "3ccfc0c3",
   "metadata": {
    "scrolled": true
   },
   "outputs": [
    {
     "data": {
      "text/plain": [
       "Index(['iso_code', 'continent', 'location', 'date', 'total_cases', 'new_cases',\n",
       "       'new_cases_smoothed', 'total_deaths', 'new_deaths',\n",
       "       'new_deaths_smoothed', 'total_cases_per_million',\n",
       "       'new_cases_per_million', 'new_cases_smoothed_per_million',\n",
       "       'total_deaths_per_million', 'new_deaths_per_million',\n",
       "       'new_deaths_smoothed_per_million', 'reproduction_rate', 'icu_patients',\n",
       "       'icu_patients_per_million', 'hosp_patients',\n",
       "       'hosp_patients_per_million', 'weekly_icu_admissions',\n",
       "       'weekly_icu_admissions_per_million', 'weekly_hosp_admissions',\n",
       "       'weekly_hosp_admissions_per_million', 'total_tests', 'new_tests',\n",
       "       'total_tests_per_thousand', 'new_tests_per_thousand',\n",
       "       'new_tests_smoothed', 'new_tests_smoothed_per_thousand',\n",
       "       'positive_rate', 'tests_per_case', 'tests_units', 'total_vaccinations',\n",
       "       'people_vaccinated', 'people_fully_vaccinated', 'total_boosters',\n",
       "       'new_vaccinations', 'new_vaccinations_smoothed',\n",
       "       'total_vaccinations_per_hundred', 'people_vaccinated_per_hundred',\n",
       "       'people_fully_vaccinated_per_hundred', 'total_boosters_per_hundred',\n",
       "       'new_vaccinations_smoothed_per_million',\n",
       "       'new_people_vaccinated_smoothed',\n",
       "       'new_people_vaccinated_smoothed_per_hundred', 'stringency_index',\n",
       "       'population_density', 'median_age', 'aged_65_older', 'aged_70_older',\n",
       "       'gdp_per_capita', 'extreme_poverty', 'cardiovasc_death_rate',\n",
       "       'diabetes_prevalence', 'female_smokers', 'male_smokers',\n",
       "       'handwashing_facilities', 'hospital_beds_per_thousand',\n",
       "       'life_expectancy', 'human_development_index', 'population',\n",
       "       'excess_mortality_cumulative_absolute', 'excess_mortality_cumulative',\n",
       "       'excess_mortality', 'excess_mortality_cumulative_per_million'],\n",
       "      dtype='object')"
      ]
     },
     "execution_count": 22,
     "metadata": {},
     "output_type": "execute_result"
    }
   ],
   "source": [
    "# diciture intestazione \n",
    "covid.columns"
   ]
  },
  {
   "cell_type": "code",
   "execution_count": 23,
   "id": "8e9b1982",
   "metadata": {},
   "outputs": [
    {
     "name": "stdout",
     "output_type": "stream",
     "text": [
      "<class 'pandas.core.frame.DataFrame'>\n",
      "RangeIndex: 344818 entries, 0 to 344817\n",
      "Data columns (total 67 columns):\n",
      " #   Column                                      Non-Null Count   Dtype  \n",
      "---  ------                                      --------------   -----  \n",
      " 0   iso_code                                    344818 non-null  object \n",
      " 1   continent                                   328426 non-null  object \n",
      " 2   location                                    344818 non-null  object \n",
      " 3   date                                        344818 non-null  object \n",
      " 4   total_cases                                 306964 non-null  float64\n",
      " 5   new_cases                                   335338 non-null  float64\n",
      " 6   new_cases_smoothed                          334079 non-null  float64\n",
      " 7   total_deaths                                285503 non-null  float64\n",
      " 8   new_deaths                                  335378 non-null  float64\n",
      " 9   new_deaths_smoothed                         334148 non-null  float64\n",
      " 10  total_cases_per_million                     306964 non-null  float64\n",
      " 11  new_cases_per_million                       335338 non-null  float64\n",
      " 12  new_cases_smoothed_per_million              334079 non-null  float64\n",
      " 13  total_deaths_per_million                    285503 non-null  float64\n",
      " 14  new_deaths_per_million                      335378 non-null  float64\n",
      " 15  new_deaths_smoothed_per_million             334148 non-null  float64\n",
      " 16  reproduction_rate                           184817 non-null  float64\n",
      " 17  icu_patients                                37449 non-null   float64\n",
      " 18  icu_patients_per_million                    37449 non-null   float64\n",
      " 19  hosp_patients                               38654 non-null   float64\n",
      " 20  hosp_patients_per_million                   38654 non-null   float64\n",
      " 21  weekly_icu_admissions                       10135 non-null   float64\n",
      " 22  weekly_icu_admissions_per_million           10135 non-null   float64\n",
      " 23  weekly_hosp_admissions                      23085 non-null   float64\n",
      " 24  weekly_hosp_admissions_per_million          23085 non-null   float64\n",
      " 25  total_tests                                 79387 non-null   float64\n",
      " 26  new_tests                                   75403 non-null   float64\n",
      " 27  total_tests_per_thousand                    79387 non-null   float64\n",
      " 28  new_tests_per_thousand                      75403 non-null   float64\n",
      " 29  new_tests_smoothed                          103965 non-null  float64\n",
      " 30  new_tests_smoothed_per_thousand             103965 non-null  float64\n",
      " 31  positive_rate                               95927 non-null   float64\n",
      " 32  tests_per_case                              94348 non-null   float64\n",
      " 33  tests_units                                 106788 non-null  object \n",
      " 34  total_vaccinations                          78803 non-null   float64\n",
      " 35  people_vaccinated                           75432 non-null   float64\n",
      " 36  people_fully_vaccinated                     72073 non-null   float64\n",
      " 37  total_boosters                              47094 non-null   float64\n",
      " 38  new_vaccinations                            64888 non-null   float64\n",
      " 39  new_vaccinations_smoothed                   179063 non-null  float64\n",
      " 40  total_vaccinations_per_hundred              78803 non-null   float64\n",
      " 41  people_vaccinated_per_hundred               75432 non-null   float64\n",
      " 42  people_fully_vaccinated_per_hundred         72073 non-null   float64\n",
      " 43  total_boosters_per_hundred                  47094 non-null   float64\n",
      " 44  new_vaccinations_smoothed_per_million       179063 non-null  float64\n",
      " 45  new_people_vaccinated_smoothed              178717 non-null  float64\n",
      " 46  new_people_vaccinated_smoothed_per_hundred  178717 non-null  float64\n",
      " 47  stringency_index                            197651 non-null  float64\n",
      " 48  population_density                          292672 non-null  float64\n",
      " 49  median_age                                  272197 non-null  float64\n",
      " 50  aged_65_older                               262664 non-null  float64\n",
      " 51  aged_70_older                               269469 non-null  float64\n",
      " 52  gdp_per_capita                              266756 non-null  float64\n",
      " 53  extreme_poverty                             171894 non-null  float64\n",
      " 54  cardiovasc_death_rate                       267364 non-null  float64\n",
      " 55  diabetes_prevalence                         280965 non-null  float64\n",
      " 56  female_smokers                              200544 non-null  float64\n",
      " 57  male_smokers                                197816 non-null  float64\n",
      " 58  handwashing_facilities                      130955 non-null  float64\n",
      " 59  hospital_beds_per_thousand                  236008 non-null  float64\n",
      " 60  life_expectancy                             317209 non-null  float64\n",
      " 61  human_development_index                     259141 non-null  float64\n",
      " 62  population                                  344818 non-null  float64\n",
      " 63  excess_mortality_cumulative_absolute        11944 non-null   float64\n",
      " 64  excess_mortality_cumulative                 11944 non-null   float64\n",
      " 65  excess_mortality                            11944 non-null   float64\n",
      " 66  excess_mortality_cumulative_per_million     11944 non-null   float64\n",
      "dtypes: float64(62), object(5)\n",
      "memory usage: 176.3+ MB\n"
     ]
    }
   ],
   "source": [
    "covid.info()"
   ]
  },
  {
   "cell_type": "code",
   "execution_count": 29,
   "id": "76023083",
   "metadata": {},
   "outputs": [],
   "source": [
    "cases_by_continent = covid.groupby('continent').new_cases.sum().reset_index()"
   ]
  },
  {
   "cell_type": "code",
   "execution_count": 30,
   "id": "8b3a6743",
   "metadata": {},
   "outputs": [
    {
     "name": "stdout",
     "output_type": "stream",
     "text": [
      "       continent    new_cases\n",
      "0         Africa   13131727.0\n",
      "1           Asia  300675960.0\n",
      "2         Europe  249361848.0\n",
      "3  North America  124472324.0\n",
      "4        Oceania   14474366.0\n",
      "5  South America   68839240.0\n"
     ]
    }
   ],
   "source": [
    "print(cases_by_continent)"
   ]
  },
  {
   "cell_type": "code",
   "execution_count": 61,
   "id": "045aaa4b",
   "metadata": {},
   "outputs": [
    {
     "name": "stdout",
     "output_type": "stream",
     "text": [
      "Comparison between Europe and South America:\n",
      "{'Continent1': {'Min': 1.0, 'Max': 38997490.0, 'Mean': 2374414.8922752053, 'Percentage of World Cases': 0.0726893451681141}, 'Continent2': {'Min': 1.0, 'Max': 99311610.0, 'Mean': 2726221.207886349, 'Percentage of World Cases': 0.08345939668311148}}\n"
     ]
    }
   ],
   "source": [
    "def compare_cases_statistics(dataset, continent1, continent2):\n",
    "    df_filtered = dataset[dataset['continent'].notna()]\n",
    "    df_continent1 = df_filtered[df_filtered['continent'] == continent1]\n",
    "    df_continent2 = df_filtered[df_filtered['continent'] == continent2]\n",
    "\n",
    "    statistics_continent1 = df_continent1['total_cases'].describe()\n",
    "    statistics_continent2 = df_continent2['total_cases'].describe()\n",
    "\n",
    "    total_world_cases = dataset['new_cases'].sum()\n",
    "\n",
    "    percentage_continent1 = (statistics_continent1['mean'] / total_world_cases) * 100\n",
    "    percentage_continent2 = (statistics_continent2['mean'] / total_world_cases) * 100\n",
    "\n",
    "    return {\n",
    "        'Continent1': {\n",
    "            'Min': statistics_continent1['min'],\n",
    "            'Max': statistics_continent1['max'],\n",
    "            'Mean': statistics_continent1['mean'],\n",
    "            'Percentage of World Cases': percentage_continent1\n",
    "        },\n",
    "        'Continent2': {\n",
    "            'Min': statistics_continent2['min'],\n",
    "            'Max': statistics_continent2['max'],\n",
    "            'Mean': statistics_continent2['mean'],\n",
    "            'Percentage of World Cases': percentage_continent2\n",
    "        }\n",
    "    }\n",
    "\n",
    "# Example:\n",
    "comparison_result = compare_cases_statistics(covid, 'Europe', 'South America')\n",
    "print(\"Comparison between Europe and South America:\")\n",
    "print(comparison_result)"
   ]
  },
  {
   "cell_type": "code",
   "execution_count": null,
   "id": "3a03c7db",
   "metadata": {},
   "outputs": [],
   "source": []
  },
  {
   "cell_type": "code",
   "execution_count": 67,
   "id": "2905e98b",
   "metadata": {},
   "outputs": [
    {
     "name": "stdout",
     "output_type": "stream",
     "text": [
      "Comparison of vaccinations between all continents:\n",
      "{'Asia': {'Min': 0.0, 'Max': 3491077000.0, 'Mean': 219356983.7826324, 'Percentage of World Vaccinations': 0.0006386327497134662}, 'Africa': {'Min': 0.0, 'Max': 130894625.0, 'Mean': 7969860.303859538, 'Percentage of World Vaccinations': 2.3203336009259094e-05}, 'Oceania': {'Min': 0.0, 'Max': 65492360.0, 'Mean': 12483639.778162055, 'Percentage of World Vaccinations': 3.6344688281546554e-05}, 'Europe': {'Min': 0.0, 'Max': 192221468.0, 'Mean': 27489045.541351616, 'Percentage of World Vaccinations': 8.003120957602276e-05}, 'North America': {'Min': 0.0, 'Max': 676728782.0, 'Mean': 63574339.92951542, 'Percentage of World Vaccinations': 0.0001850894137049107}, 'South America': {'Min': 0.0, 'Max': 486436436.0, 'Mean': 64880307.44721689, 'Percentage of World Vaccinations': 0.0001888915886458856}}\n"
     ]
    }
   ],
   "source": [
    "def compare_vaccines_statistics(dataset, continent1, continent2, continent3, continent4, continent5, continent6):\n",
    "    df_filtered = dataset[dataset['continent'].notna()]\n",
    "    df_continent1 = df_filtered[df_filtered['continent'] == continent1]\n",
    "    df_continent2 = df_filtered[df_filtered['continent'] == continent2]\n",
    "    df_continent3 = df_filtered[df_filtered['continent'] == continent3]\n",
    "    df_continent4 = df_filtered[df_filtered['continent'] == continent4]\n",
    "    df_continent5 = df_filtered[df_filtered['continent'] == continent5]\n",
    "    df_continent6 = df_filtered[df_filtered['continent'] == continent6]\n",
    "\n",
    "    statistics_continent1 = df_continent1['total_vaccinations'].describe()\n",
    "    statistics_continent2 = df_continent2['total_vaccinations'].describe()\n",
    "    statistics_continent3 = df_continent3['total_vaccinations'].describe()\n",
    "    statistics_continent4 = df_continent4['total_vaccinations'].describe()\n",
    "    statistics_continent5 = df_continent5['total_vaccinations'].describe()\n",
    "    statistics_continent6 = df_continent6['total_vaccinations'].describe()\n",
    "\n",
    "    total_world_vaccinations = dataset['total_vaccinations'].sum()\n",
    "\n",
    "    percentage_continent1 = (statistics_continent1['mean'] / total_world_vaccinations) * 100\n",
    "    percentage_continent2 = (statistics_continent2['mean'] / total_world_vaccinations) * 100\n",
    "    percentage_continent3 = (statistics_continent3['mean'] / total_world_vaccinations) * 100\n",
    "    percentage_continent4 = (statistics_continent4['mean'] / total_world_vaccinations) * 100\n",
    "    percentage_continent5 = (statistics_continent5['mean'] / total_world_vaccinations) * 100\n",
    "    percentage_continent6 = (statistics_continent6['mean'] / total_world_vaccinations) * 100\n",
    "        \n",
    "\n",
    "    return {\n",
    "        'Asia': {\n",
    "            'Min': statistics_continent1['min'],\n",
    "            'Max': statistics_continent1['max'],\n",
    "            'Mean': statistics_continent1['mean'],\n",
    "            'Percentage of World Vaccinations': percentage_continent1\n",
    "        },\n",
    "        'Africa': {\n",
    "            'Min': statistics_continent2['min'],\n",
    "            'Max': statistics_continent2['max'],\n",
    "            'Mean': statistics_continent2['mean'],\n",
    "            'Percentage of World Vaccinations': percentage_continent2\n",
    "        },\n",
    "        'Oceania': {\n",
    "            'Min': statistics_continent3['min'],\n",
    "            'Max': statistics_continent3['max'],\n",
    "            'Mean': statistics_continent3['mean'],\n",
    "            'Percentage of World Vaccinations': percentage_continent3\n",
    "        },\n",
    "        'Europe': {\n",
    "            'Min': statistics_continent4['min'],\n",
    "            'Max': statistics_continent4['max'],\n",
    "            'Mean': statistics_continent4['mean'],\n",
    "            'Percentage of World Vaccinations': percentage_continent4\n",
    "        },\n",
    "        'North America': {\n",
    "            'Min': statistics_continent5['min'],\n",
    "            'Max': statistics_continent5['max'],\n",
    "            'Mean': statistics_continent5['mean'],\n",
    "            'Percentage of World Vaccinations': percentage_continent5\n",
    "        },\n",
    "        'South America': {\n",
    "            'Min': statistics_continent6['min'],\n",
    "            'Max': statistics_continent6['max'],\n",
    "            'Mean': statistics_continent6['mean'],\n",
    "            'Percentage of World Vaccinations': percentage_continent6\n",
    "        }\n",
    "    }\n",
    "\n",
    "# Example:\n",
    "comparison_vaccines = compare_vaccines_statistics(covid, 'Asia', 'Africa', 'Oceania', 'Europe', 'North America', 'South America')\n",
    "print(\"Comparison of vaccinations between all continents:\")\n",
    "print(comparison_vaccines)"
   ]
  },
  {
   "cell_type": "code",
   "execution_count": null,
   "id": "019d4825",
   "metadata": {},
   "outputs": [],
   "source": [
    "''' \n",
    "Da questo analisi, possiamo dire che ovviamente tutti i continenti sono partiti con 0 vaccini e \n",
    "per questo il numero minimo è di zero. Inoltre, vediamo che il continente che più vaccini ha applicato è stata Asia\n",
    "con un totale di 3 491 077 000 vaccini e quello che meno vaccini ha applicato è stata l'Oceania con  65 492 360 vacini.\n",
    "\n",
    "'''"
   ]
  }
 ],
 "metadata": {
  "kernelspec": {
   "display_name": "Python 3 (ipykernel)",
   "language": "python",
   "name": "python3"
  },
  "language_info": {
   "codemirror_mode": {
    "name": "ipython",
    "version": 3
   },
   "file_extension": ".py",
   "mimetype": "text/x-python",
   "name": "python",
   "nbconvert_exporter": "python",
   "pygments_lexer": "ipython3",
   "version": "3.10.9"
  }
 },
 "nbformat": 4,
 "nbformat_minor": 5
}
